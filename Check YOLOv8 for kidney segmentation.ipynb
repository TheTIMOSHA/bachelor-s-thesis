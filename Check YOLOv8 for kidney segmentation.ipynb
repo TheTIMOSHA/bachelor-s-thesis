{
 "cells": [
  {
   "cell_type": "code",
   "execution_count": 3,
   "id": "9cbdc049",
   "metadata": {},
   "outputs": [],
   "source": [
    "from ultralytics import YOLO"
   ]
  },
  {
   "cell_type": "code",
   "execution_count": 4,
   "id": "b2ad1a75",
   "metadata": {},
   "outputs": [],
   "source": [
    "import pandas as pd\n",
    "import numpy as np\n",
    "from sklearn.metrics import classification_report\n",
    "\n",
    "import matplotlib.pyplot as plt\n",
    "import seaborn as sns\n",
    "\n",
    "import tensorflow as tf\n",
    "from tensorflow.keras.datasets import mnist\n",
    "from tensorflow.keras.models import Sequential\n",
    "from tensorflow.keras.layers import Flatten, Dense\n",
    "from tensorflow.keras.utils import to_categorical\n",
    "\n",
    "import warnings\n",
    "warnings.filterwarnings('ignore')"
   ]
  },
  {
   "cell_type": "code",
   "execution_count": 5,
   "id": "8aebe7d3",
   "metadata": {},
   "outputs": [],
   "source": [
    "import torch"
   ]
  },
  {
   "cell_type": "code",
   "execution_count": 6,
   "id": "b0897788",
   "metadata": {},
   "outputs": [],
   "source": [
    "from tqdm import tqdm"
   ]
  },
  {
   "cell_type": "code",
   "execution_count": 7,
   "id": "bff57252",
   "metadata": {},
   "outputs": [],
   "source": [
    "import SimpleITK as sitk\n",
    "import cv2"
   ]
  },
  {
   "cell_type": "code",
   "execution_count": 8,
   "id": "434ab319",
   "metadata": {},
   "outputs": [],
   "source": [
    "from IPython.display import display, clear_output\n",
    "import time"
   ]
  },
  {
   "cell_type": "code",
   "execution_count": 9,
   "id": "b26f3f9a",
   "metadata": {},
   "outputs": [],
   "source": [
    "import os\n",
    "import json"
   ]
  },
  {
   "cell_type": "markdown",
   "id": "0bb9cab6",
   "metadata": {},
   "source": [
    "# Описание датасета"
   ]
  },
  {
   "cell_type": "markdown",
   "id": "826594dd",
   "metadata": {},
   "source": [
    "Датасет состоит из 489 кейсов (0 - 299, 400 - 588).\n",
    "Каждый кейс содержит:\n",
    "1. imaging.nii.gz - трехмерное изображение почек\n",
    "2. segmentation.nii.gz - трехмерное изображение маски (0 - фон, 1 - почка, 2 - опухоль, 3 - киста)\n",
    "3. instances - папка, которая содержит все маски по отдельности трижды (зачем трижды?). Они представляют собой маски, где 0 - фон, а 1 - объект данного класса).\n",
    "\n",
    "Принято решение брать первую аннотацию."
   ]
  },
  {
   "cell_type": "code",
   "execution_count": 11,
   "id": "bcee4d2a",
   "metadata": {
    "scrolled": false
   },
   "outputs": [],
   "source": [
    "path = \"D:\\kits23\\dataset\"\n",
    "cases1 = list(range(300))\n",
    "cases2 = list(range(400, 589))\n",
    "categories = [\n",
    "    {\"id\": 0, \"name\": \"kidney\", \"supercategory\": \"\"},\n",
    "    {\"id\": 1, \"name\": \"tumor\", \"supercategory\": \"\"},\n",
    "    {\"id\": 2, \"name\": \"cyst\", \"supercategory\": \"\"}]"
   ]
  },
  {
   "cell_type": "markdown",
   "id": "69c9f28c",
   "metadata": {},
   "source": [
    "### Методы в помощь"
   ]
  },
  {
   "cell_type": "code",
   "execution_count": 12,
   "id": "7a0382a5",
   "metadata": {},
   "outputs": [],
   "source": [
    "def get_contour_coords(mask):\n",
    "    \"\"\"\n",
    "    Extracts contour coordinates from a segmentation mask.\n",
    "\n",
    "    Args:\n",
    "        mask (2d np.array): A binary mask representing the segmentation of an object.\n",
    "\n",
    "    Returns:\n",
    "        str: A string containing normalized coordinates of the contours.\n",
    "    \"\"\"\n",
    "    contours, _ = cv2.findContours(mask.astype(np.uint8), cv2.RETR_EXTERNAL, cv2.CHAIN_APPROX_SIMPLE)\n",
    "    \n",
    "    normalized_coordinates = []\n",
    "    \n",
    "    for contour in contours:\n",
    "        normalized_contour = contour.squeeze() / mask.shape[::-1]\n",
    "        normalized_coordinates.extend(normalized_contour.flatten().tolist())\n",
    "    \n",
    "    coordinates_string = ' '.join(map(str, normalized_coordinates))\n",
    "    \n",
    "    return coordinates_string"
   ]
  },
  {
   "cell_type": "code",
   "execution_count": 13,
   "id": "0e42cf7f",
   "metadata": {},
   "outputs": [],
   "source": [
    "def get_instances_description(curr_case):\n",
    "    \"\"\"\n",
    "    Get a list of dictionaries describing instances for the given case.\n",
    "\n",
    "    Args:\n",
    "        curr_case (int): The current case number.\n",
    "\n",
    "    Returns:\n",
    "        list: A list of dictionaries, each describing an instance with keys 'obj_name', 'instance', and 'annotation'.\n",
    "    \"\"\"\n",
    "    curr_path = path + \"\\\\case_00\" + str(curr_case).zfill(3) + \"\\\\instances\"\n",
    "    objects = os.listdir(curr_path)\n",
    "    \n",
    "    obj_list = []\n",
    "\n",
    "    for obj in objects:\n",
    "\n",
    "        obj_name, instance, annotation = obj.split('_')\n",
    "        _, instance_num = instance.split('-')\n",
    "        _, annotation_tail = annotation.split('-')\n",
    "        annotation_num, _, _ = annotation_tail.split('.')\n",
    "\n",
    "        obj_dict = {}\n",
    "        obj_dict.update({\"obj_name\": obj_name})\n",
    "        obj_dict.update({\"instance\": int(instance_num)})\n",
    "        obj_dict.update({\"annotation\": int(annotation_num)})\n",
    "        \n",
    "        obj_list.append(obj_dict)\n",
    "\n",
    "    return obj_list"
   ]
  },
  {
   "cell_type": "code",
   "execution_count": 14,
   "id": "00ad0e74",
   "metadata": {},
   "outputs": [],
   "source": [
    "def compare_arrays(arr1, arr2):\n",
    "    \"\"\"\n",
    "    Сравнивает два трехмерных массива и находит слои несоответствия.\n",
    "    \n",
    "    Аргументы:\n",
    "        arr1 (np.array): Трехмерный массив 512x512xN, где N - размерность третьего измерения\n",
    "        arr2 (np.array): Трехмерный массив 512x512xN, где N - размерность третьего измерения\n",
    "    \n",
    "    Возвращает:\n",
    "        list: Список слоёв, который отличается между собой\n",
    "    \"\"\"\n",
    "    different_layers = []\n",
    "    \n",
    "    # Проверяем каждый слой массивов на равенство\n",
    "    for i in range(arr1.shape[2]):\n",
    "        if not np.array_equal(arr1[:, :, i], arr2[:, :, i]):\n",
    "            different_layers.append(i)\n",
    "    \n",
    "    return different_layers"
   ]
  },
  {
   "cell_type": "code",
   "execution_count": 15,
   "id": "8623975b",
   "metadata": {},
   "outputs": [],
   "source": [
    "def get_3d_array_from_path(curr_path):\n",
    "    curr = sitk.ReadImage(curr_path)\n",
    "    curr_array = sitk.GetArrayFromImage(curr)\n",
    "    return curr_array"
   ]
  },
  {
   "cell_type": "code",
   "execution_count": 16,
   "id": "82040c2a",
   "metadata": {},
   "outputs": [],
   "source": [
    "def get_id(case, layer):\n",
    "    return str(case).zfill(3) + str(layer).zfill(3)"
   ]
  },
  {
   "cell_type": "code",
   "execution_count": 17,
   "id": "d1095d5e",
   "metadata": {},
   "outputs": [],
   "source": [
    "def save_text_to_file(text, file_path):\n",
    "    with open(file_path, \"w\") as file:\n",
    "        file.write(text)"
   ]
  },
  {
   "cell_type": "markdown",
   "id": "99f135e5",
   "metadata": {},
   "source": [
    "### Начало сборки масок"
   ]
  },
  {
   "cell_type": "code",
   "execution_count": 41,
   "id": "9c1536f8",
   "metadata": {
    "scrolled": true
   },
   "outputs": [
    {
     "name": "stdout",
     "output_type": "stream",
     "text": [
      "Case: 131\n",
      "instances [{'obj_name': 'kidney', 'instance': 1, 'annotation': 1}, {'obj_name': 'kidney', 'instance': 1, 'annotation': 2}, {'obj_name': 'kidney', 'instance': 1, 'annotation': 3}, {'obj_name': 'kidney', 'instance': 2, 'annotation': 1}, {'obj_name': 'kidney', 'instance': 2, 'annotation': 2}, {'obj_name': 'kidney', 'instance': 2, 'annotation': 3}, {'obj_name': 'tumor', 'instance': 1, 'annotation': 1}, {'obj_name': 'tumor', 'instance': 1, 'annotation': 2}, {'obj_name': 'tumor', 'instance': 1, 'annotation': 3}]\n",
      "instance {'obj_name': 'kidney', 'instance': 1, 'annotation': 1}\n",
      "category_name kidney category_id 0\n",
      "instance {'obj_name': 'kidney', 'instance': 2, 'annotation': 1}\n",
      "category_name kidney category_id 0\n",
      "instance {'obj_name': 'tumor', 'instance': 1, 'annotation': 1}\n",
      "category_name tumor category_id 1\n",
      "Case: 132\n",
      "instances [{'obj_name': 'kidney', 'instance': 1, 'annotation': 1}, {'obj_name': 'kidney', 'instance': 1, 'annotation': 2}, {'obj_name': 'kidney', 'instance': 1, 'annotation': 3}, {'obj_name': 'kidney', 'instance': 2, 'annotation': 1}, {'obj_name': 'kidney', 'instance': 2, 'annotation': 2}, {'obj_name': 'kidney', 'instance': 2, 'annotation': 3}, {'obj_name': 'tumor', 'instance': 1, 'annotation': 1}, {'obj_name': 'tumor', 'instance': 1, 'annotation': 2}, {'obj_name': 'tumor', 'instance': 1, 'annotation': 3}]\n",
      "instance {'obj_name': 'kidney', 'instance': 1, 'annotation': 1}\n",
      "category_name kidney category_id 0\n",
      "instance {'obj_name': 'kidney', 'instance': 2, 'annotation': 1}\n",
      "category_name kidney category_id 0\n",
      "instance {'obj_name': 'tumor', 'instance': 1, 'annotation': 1}\n",
      "category_name tumor category_id 1\n",
      "Case: 133\n",
      "instances [{'obj_name': 'kidney', 'instance': 1, 'annotation': 1}, {'obj_name': 'kidney', 'instance': 1, 'annotation': 2}, {'obj_name': 'kidney', 'instance': 1, 'annotation': 3}, {'obj_name': 'kidney', 'instance': 2, 'annotation': 1}, {'obj_name': 'kidney', 'instance': 2, 'annotation': 2}, {'obj_name': 'kidney', 'instance': 2, 'annotation': 3}, {'obj_name': 'tumor', 'instance': 1, 'annotation': 1}, {'obj_name': 'tumor', 'instance': 1, 'annotation': 2}, {'obj_name': 'tumor', 'instance': 1, 'annotation': 3}]\n",
      "instance {'obj_name': 'kidney', 'instance': 1, 'annotation': 1}\n",
      "category_name kidney category_id 0\n",
      "instance {'obj_name': 'kidney', 'instance': 2, 'annotation': 1}\n",
      "category_name kidney category_id 0\n",
      "instance {'obj_name': 'tumor', 'instance': 1, 'annotation': 1}\n",
      "category_name tumor category_id 1\n",
      "Case: 134\n",
      "instances [{'obj_name': 'cyst', 'instance': 1, 'annotation': 1}, {'obj_name': 'cyst', 'instance': 1, 'annotation': 2}, {'obj_name': 'cyst', 'instance': 1, 'annotation': 3}, {'obj_name': 'cyst', 'instance': 2, 'annotation': 1}, {'obj_name': 'cyst', 'instance': 2, 'annotation': 2}, {'obj_name': 'cyst', 'instance': 2, 'annotation': 3}, {'obj_name': 'kidney', 'instance': 1, 'annotation': 1}, {'obj_name': 'kidney', 'instance': 1, 'annotation': 2}, {'obj_name': 'kidney', 'instance': 1, 'annotation': 3}, {'obj_name': 'kidney', 'instance': 2, 'annotation': 1}, {'obj_name': 'kidney', 'instance': 2, 'annotation': 2}, {'obj_name': 'kidney', 'instance': 2, 'annotation': 3}, {'obj_name': 'tumor', 'instance': 1, 'annotation': 1}, {'obj_name': 'tumor', 'instance': 1, 'annotation': 2}, {'obj_name': 'tumor', 'instance': 1, 'annotation': 3}]\n",
      "instance {'obj_name': 'cyst', 'instance': 1, 'annotation': 1}\n",
      "category_name cyst category_id 2\n",
      "instance {'obj_name': 'cyst', 'instance': 2, 'annotation': 1}\n",
      "category_name cyst category_id 2\n",
      "instance {'obj_name': 'kidney', 'instance': 1, 'annotation': 1}\n",
      "category_name kidney category_id 0\n",
      "instance {'obj_name': 'kidney', 'instance': 2, 'annotation': 1}\n",
      "category_name kidney category_id 0\n",
      "instance {'obj_name': 'tumor', 'instance': 1, 'annotation': 1}\n",
      "category_name tumor category_id 1\n",
      "Case: 135\n",
      "instances [{'obj_name': 'kidney', 'instance': 1, 'annotation': 1}, {'obj_name': 'kidney', 'instance': 1, 'annotation': 2}, {'obj_name': 'kidney', 'instance': 1, 'annotation': 3}, {'obj_name': 'kidney', 'instance': 2, 'annotation': 1}, {'obj_name': 'kidney', 'instance': 2, 'annotation': 2}, {'obj_name': 'kidney', 'instance': 2, 'annotation': 3}, {'obj_name': 'tumor', 'instance': 1, 'annotation': 1}, {'obj_name': 'tumor', 'instance': 1, 'annotation': 2}, {'obj_name': 'tumor', 'instance': 1, 'annotation': 3}]\n",
      "instance {'obj_name': 'kidney', 'instance': 1, 'annotation': 1}\n",
      "category_name kidney category_id 0\n",
      "instance {'obj_name': 'kidney', 'instance': 2, 'annotation': 1}\n",
      "category_name kidney category_id 0\n",
      "instance {'obj_name': 'tumor', 'instance': 1, 'annotation': 1}\n",
      "category_name tumor category_id 1\n"
     ]
    },
    {
     "data": {
      "image/png": "[encoded data removed]",
      "text/plain": [
       "<Figure size 432x288 with 1 Axes>"
      ]
     },
     "metadata": {
      "needs_background": "light"
     },
     "output_type": "display_data"
    }
   ],
   "source": [
    "for case in range(131, 136):\n",
    "# for case in cases1: # Раскомментировать здесь, чтобы скачать первую партию изображений\n",
    "    \n",
    "    print(\"Case:\", str(case).zfill(3))\n",
    "    \n",
    "    # Получение 3D-изображения\n",
    "    image_path = path + \"\\\\case_00\" + str(case).zfill(3) + \"\\\\imaging.nii.gz\"\n",
    "    image_array = get_3d_array_from_path(image_path)\n",
    "    \n",
    "    # Получение 3D-маски\n",
    "    mask_path = path + \"\\\\case_00\" + str(case).zfill(3) + \"\\\\segmentation.nii.gz\"\n",
    "    mask_array = get_3d_array_from_path(mask_path)\n",
    "    \n",
    "    case_shape = image_array.shape[2]\n",
    "    \n",
    "    # Получение словаря, в котором хранятся все маски для каждого класса по отдельности (см. метод выше)\n",
    "    instances = get_instances_description(case)\n",
    "    print(\"instances\", instances)\n",
    "    \n",
    "    # Получение 3D-масок по экземплярам\n",
    "    instances_list = []   # Список с 3D-масками экземляров\n",
    "    instance_cats = []    # Список с соответствующим классом в виде числа\n",
    "    for instance in instances:\n",
    "        if instance['annotation'] == 1:\n",
    "            print(\"instance\", instance)\n",
    "            \n",
    "            # Определение id и типа текущего экземляра\n",
    "            category_name = instance['obj_name']\n",
    "            for category in categories:\n",
    "                if category[\"name\"] == category_name:\n",
    "                    category_id = category[\"id\"]\n",
    "                    break\n",
    "            print(\"category_name\", category_name, \"category_id\", category_id)\n",
    "            \n",
    "            # Получение 3D-экземляра\n",
    "            instance_path = path + \"\\\\case_00\" + str(case).zfill(3) + \\\n",
    "            \"\\\\instances\\\\\" + category_name               + \\\n",
    "            \"_instance-\"    + str(instance['instance'])   + \\\n",
    "            \"_annotation-\"  + str(instance['annotation']) + \".nii.gz\"\n",
    "            instance_array = get_3d_array_from_path(instance_path)\n",
    "            \n",
    "            # Добавление во временные списки\n",
    "            instance_cats.append(category_id)\n",
    "            instances_list.append(instance_array)\n",
    "    \n",
    "    # Сохранение изображений и лейблов кейса\n",
    "    images_saved = 0\n",
    "    for layer in range(case_shape):\n",
    "        \n",
    "        image_2d = image_array[:, :, layer]\n",
    "        mask_2d = mask_array[:, :, layer]\n",
    "        \n",
    "        # Если на 2D-маске нет ни одного класса, то изображение не сохраняется\n",
    "        if np.all(mask_2d == 0):\n",
    "            continue\n",
    "        \n",
    "        contours = \"\"\n",
    "        for i, category in enumerate(instance_cats):\n",
    "            contour = get_contour_coords(instances_list[i][layer])\n",
    "            if contour:\n",
    "                contours += str(category) + \" \" + contour + '\\n'\n",
    "            \n",
    "             \n",
    "        if contours:\n",
    "            # Сохранение лейбла\n",
    "            save_text_to_file(contours[:-1], r\"D:\\datasets\\my project\\train\\labels\\img_\" + get_id(case, layer) + \".txt\")\n",
    "            \n",
    "            # Сохранение изображения\n",
    "            plt.imshow(image_2d, cmap='gray')\n",
    "            plt.axis('off')\n",
    "            # plt.show()\n",
    "            plt.imsave(r\"D:\\datasets\\my project\\train\\images\\img_\" + get_id(case, layer) + \".png\", image_2d, cmap='gray') \n",
    "    "
   ]
  },
  {
   "cell_type": "code",
   "execution_count": 43,
   "id": "04376d17",
   "metadata": {
    "scrolled": true
   },
   "outputs": [
    {
     "name": "stdout",
     "output_type": "stream",
     "text": [
      "Ultralytics YOLOv8.1.47  Python-3.9.12 torch-2.0.1+cpu CPU (Intel Core(TM) i3-8130U 2.20GHz)\n",
      "\u001b[34m\u001b[1mengine\\trainer: \u001b[0mtask=segment, mode=train, model=yolov8n-seg.pt, data=D:\\datasets\\my project\\data.yaml, epochs=10, time=None, patience=100, batch=16, imgsz=640, save=True, save_period=-1, cache=False, device=None, workers=8, project=None, name=train9, exist_ok=False, pretrained=True, optimizer=auto, verbose=True, seed=0, deterministic=True, single_cls=False, rect=False, cos_lr=False, close_mosaic=10, resume=False, amp=True, fraction=1.0, profile=False, freeze=None, multi_scale=False, overlap_mask=True, mask_ratio=4, dropout=0.0, val=True, split=val, save_json=False, save_hybrid=False, conf=None, iou=0.7, max_det=300, half=False, dnn=False, plots=True, source=None, vid_stride=1, stream_buffer=False, visualize=False, augment=False, agnostic_nms=False, classes=None, retina_masks=False, embed=None, show=False, save_frames=False, save_txt=False, save_conf=False, save_crop=False, show_labels=True, show_conf=True, show_boxes=True, line_width=None, format=torchscript, keras=False, optimize=False, int8=False, dynamic=False, simplify=False, opset=None, workspace=4, nms=False, lr0=0.01, lrf=0.01, momentum=0.937, weight_decay=0.0005, warmup_epochs=3.0, warmup_momentum=0.8, warmup_bias_lr=0.1, box=7.5, cls=0.5, dfl=1.5, pose=12.0, kobj=1.0, label_smoothing=0.0, nbs=64, hsv_h=0.015, hsv_s=0.7, hsv_v=0.4, degrees=0.0, translate=0.1, scale=0.5, shear=0.0, perspective=0.0, flipud=0.0, fliplr=0.5, bgr=0.0, mosaic=1.0, mixup=0.0, copy_paste=0.0, auto_augment=randaugment, erasing=0.4, crop_fraction=1.0, cfg=None, tracker=botsort.yaml, save_dir=C:\\Users\\Acer\\runs\\segment\\train9\n",
      "Overriding model.yaml nc=80 with nc=3\n",
      "\n",
      "                   from  n    params  module                                       arguments                     \n",
      "  0                  -1  1       464  ultralytics.nn.modules.conv.Conv             [3, 16, 3, 2]                 \n",
      "  1                  -1  1      4672  ultralytics.nn.modules.conv.Conv             [16, 32, 3, 2]                \n",
      "  2                  -1  1      7360  ultralytics.nn.modules.block.C2f             [32, 32, 1, True]             \n",
      "  3                  -1  1     18560  ultralytics.nn.modules.conv.Conv             [32, 64, 3, 2]                \n",
      "  4                  -1  2     49664  ultralytics.nn.modules.block.C2f             [64, 64, 2, True]             \n",
      "  5                  -1  1     73984  ultralytics.nn.modules.conv.Conv             [64, 128, 3, 2]               \n",
      "  6                  -1  2    197632  ultralytics.nn.modules.block.C2f             [128, 128, 2, True]           \n",
      "  7                  -1  1    295424  ultralytics.nn.modules.conv.Conv             [128, 256, 3, 2]              \n",
      "  8                  -1  1    460288  ultralytics.nn.modules.block.C2f             [256, 256, 1, True]           \n",
      "  9                  -1  1    164608  ultralytics.nn.modules.block.SPPF            [256, 256, 5]                 \n",
      " 10                  -1  1         0  torch.nn.modules.upsampling.Upsample         [None, 2, 'nearest']          \n",
      " 11             [-1, 6]  1         0  ultralytics.nn.modules.conv.Concat           [1]                           \n",
      " 12                  -1  1    148224  ultralytics.nn.modules.block.C2f             [384, 128, 1]                 \n",
      " 13                  -1  1         0  torch.nn.modules.upsampling.Upsample         [None, 2, 'nearest']          \n",
      " 14             [-1, 4]  1         0  ultralytics.nn.modules.conv.Concat           [1]                           \n",
      " 15                  -1  1     37248  ultralytics.nn.modules.block.C2f             [192, 64, 1]                  \n",
      " 16                  -1  1     36992  ultralytics.nn.modules.conv.Conv             [64, 64, 3, 2]                \n",
      " 17            [-1, 12]  1         0  ultralytics.nn.modules.conv.Concat           [1]                           \n",
      " 18                  -1  1    123648  ultralytics.nn.modules.block.C2f             [192, 128, 1]                 \n",
      " 19                  -1  1    147712  ultralytics.nn.modules.conv.Conv             [128, 128, 3, 2]              \n",
      " 20             [-1, 9]  1         0  ultralytics.nn.modules.conv.Concat           [1]                           \n",
      " 21                  -1  1    493056  ultralytics.nn.modules.block.C2f             [384, 256, 1]                 \n",
      " 22        [15, 18, 21]  1   1004665  ultralytics.nn.modules.head.Segment          [3, 32, 64, [64, 128, 256]]   \n",
      "YOLOv8n-seg summary: 261 layers, 3264201 parameters, 3264185 gradients, 12.1 GFLOPs\n",
      "\n",
      "Transferred 381/417 items from pretrained weights\n",
      "\u001b[34m\u001b[1mTensorBoard: \u001b[0mStart with 'tensorboard --logdir C:\\Users\\Acer\\runs\\segment\\train9', view at http://localhost:6006/\n",
      "Freezing layer 'model.22.dfl.conv.weight'\n"
     ]
    },
    {
     "name": "stderr",
     "output_type": "stream",
     "text": [
      "\u001b[34m\u001b[1mtrain: \u001b[0mScanning D:\\datasets\\my project\\train\\labels.cache... 1154 images, 0 backgrounds, 1 corrupt: 100%|██████████| 11\u001b[0m"
     ]
    },
    {
     "name": "stdout",
     "output_type": "stream",
     "text": [
      "\u001b[34m\u001b[1mtrain: \u001b[0mWARNING  D:\\datasets\\my project\\train\\images\\img_091209.png: ignoring corrupt image/label: labels require 5 columns, 3 columns detected\n"
     ]
    },
    {
     "name": "stderr",
     "output_type": "stream",
     "text": [
      "\n",
      "\u001b[34m\u001b[1mval: \u001b[0mScanning D:\\datasets\\my project\\train\\labels.cache... 1154 images, 0 backgrounds, 1 corrupt: 100%|██████████| 1154\u001b[0m"
     ]
    },
    {
     "name": "stdout",
     "output_type": "stream",
     "text": [
      "\u001b[34m\u001b[1mtrain: \u001b[0mWARNING  D:\\datasets\\my project\\train\\images\\img_091209.png: ignoring corrupt image/label: labels require 5 columns, 3 columns detected\n",
      "Plotting labels to C:\\Users\\Acer\\runs\\segment\\train9\\labels.jpg... \n"
     ]
    },
    {
     "name": "stderr",
     "output_type": "stream",
     "text": [
      "\n"
     ]
    },
    {
     "name": "stdout",
     "output_type": "stream",
     "text": [
      "\u001b[34m\u001b[1moptimizer:\u001b[0m 'optimizer=auto' found, ignoring 'lr0=0.01' and 'momentum=0.937' and determining best 'optimizer', 'lr0' and 'momentum' automatically... \n",
      "\u001b[34m\u001b[1moptimizer:\u001b[0m AdamW(lr=0.001429, momentum=0.9) with parameter groups 66 weight(decay=0.0), 77 weight(decay=0.0005), 76 bias(decay=0.0)\n",
      "\u001b[34m\u001b[1mTensorBoard: \u001b[0mmodel graph visualization added \n",
      "Image sizes 640 train, 640 val\n",
      "Using 0 dataloader workers\n",
      "Logging results to \u001b[1mC:\\Users\\Acer\\runs\\segment\\train9\u001b[0m\n",
      "Starting training for 10 epochs...\n",
      "Closing dataloader mosaic\n",
      "\n",
      "      Epoch    GPU_mem   box_loss   seg_loss   cls_loss   dfl_loss  Instances       Size\n"
     ]
    },
    {
     "name": "stderr",
     "output_type": "stream",
     "text": [
      "       1/10         0G      2.846      4.711      5.579      2.506          1        640: 100%|██████████| 73/73 [20:49\n",
      "                 Class     Images  Instances      Box(P          R      mAP50  mAP50-95)     Mask(P          R      mAP\n"
     ]
    },
    {
     "name": "stdout",
     "output_type": "stream",
     "text": [
      "                   all       1153       1435    0.00227      0.161    0.00644    0.00149    0.00102     0.0725   0.000701   0.000118\n",
      "\n",
      "      Epoch    GPU_mem   box_loss   seg_loss   cls_loss   dfl_loss  Instances       Size\n"
     ]
    },
    {
     "name": "stderr",
     "output_type": "stream",
     "text": [
      "       2/10         0G      2.296      4.059      3.928      1.995          1        640: 100%|██████████| 73/73 [22:48\n",
      "                 Class     Images  Instances      Box(P          R      mAP50  mAP50-95)     Mask(P          R      mAP\n"
     ]
    },
    {
     "name": "stdout",
     "output_type": "stream",
     "text": [
      "                   all       1153       1435      0.728     0.0513      0.041     0.0157       0.72     0.0409     0.0342    0.00964\n",
      "\n",
      "      Epoch    GPU_mem   box_loss   seg_loss   cls_loss   dfl_loss  Instances       Size\n"
     ]
    },
    {
     "name": "stderr",
     "output_type": "stream",
     "text": [
      "       3/10         0G      2.115      3.869      3.146       1.84          1        640: 100%|██████████| 73/73 [25:58\n",
      "                 Class     Images  Instances      Box(P          R      mAP50  mAP50-95)     Mask(P          R      mAP\n"
     ]
    },
    {
     "name": "stdout",
     "output_type": "stream",
     "text": [
      "                   all       1153       1435      0.785      0.099       0.13      0.066      0.772     0.0888      0.102     0.0291\n",
      "\n",
      "      Epoch    GPU_mem   box_loss   seg_loss   cls_loss   dfl_loss  Instances       Size\n"
     ]
    },
    {
     "name": "stderr",
     "output_type": "stream",
     "text": [
      "       4/10         0G      1.897      3.623      2.541      1.692          1        640: 100%|██████████| 73/73 [21:31\n",
      "                 Class     Images  Instances      Box(P          R      mAP50  mAP50-95)     Mask(P          R      mAP\n"
     ]
    },
    {
     "name": "stdout",
     "output_type": "stream",
     "text": [
      "                   all       1153       1435      0.643      0.138      0.152     0.0658      0.619      0.128      0.125     0.0395\n",
      "\n",
      "      Epoch    GPU_mem   box_loss   seg_loss   cls_loss   dfl_loss  Instances       Size\n"
     ]
    },
    {
     "name": "stderr",
     "output_type": "stream",
     "text": [
      "       5/10         0G      1.719      3.359       2.07      1.546          1        640: 100%|██████████| 73/73 [22:38\n",
      "                 Class     Images  Instances      Box(P          R      mAP50  mAP50-95)     Mask(P          R      mAP\n"
     ]
    },
    {
     "name": "stdout",
     "output_type": "stream",
     "text": [
      "                   all       1153       1435      0.482      0.412      0.395       0.21      0.469      0.377      0.358      0.152\n",
      "\n",
      "      Epoch    GPU_mem   box_loss   seg_loss   cls_loss   dfl_loss  Instances       Size\n"
     ]
    },
    {
     "name": "stderr",
     "output_type": "stream",
     "text": [
      "       6/10         0G      1.562      3.072      1.726       1.44          1        640: 100%|██████████| 73/73 [22:06\n",
      "                 Class     Images  Instances      Box(P          R      mAP50  mAP50-95)     Mask(P          R      mAP\n"
     ]
    },
    {
     "name": "stdout",
     "output_type": "stream",
     "text": [
      "                   all       1153       1435      0.597      0.488      0.524       0.29      0.582      0.459      0.499      0.213\n",
      "\n",
      "      Epoch    GPU_mem   box_loss   seg_loss   cls_loss   dfl_loss  Instances       Size\n"
     ]
    },
    {
     "name": "stderr",
     "output_type": "stream",
     "text": [
      "       7/10         0G      1.423      2.862      1.427      1.334          1        640: 100%|██████████| 73/73 [21:14\n",
      "                 Class     Images  Instances      Box(P          R      mAP50  mAP50-95)     Mask(P          R      mAP"
     ]
    },
    {
     "name": "stdout",
     "output_type": "stream",
     "text": [
      "                   all       1153       1435      0.653      0.492      0.535      0.294      0.648      0.487      0.524      0.253\n"
     ]
    },
    {
     "name": "stderr",
     "output_type": "stream",
     "text": [
      "\n"
     ]
    },
    {
     "name": "stdout",
     "output_type": "stream",
     "text": [
      "\n",
      "      Epoch    GPU_mem   box_loss   seg_loss   cls_loss   dfl_loss  Instances       Size\n"
     ]
    },
    {
     "name": "stderr",
     "output_type": "stream",
     "text": [
      "       8/10         0G      1.311       2.71      1.266      1.262          1        640: 100%|██████████| 73/73 [21:40\n",
      "                 Class     Images  Instances      Box(P          R      mAP50  mAP50-95)     Mask(P          R      mAP"
     ]
    },
    {
     "name": "stdout",
     "output_type": "stream",
     "text": [
      "                   all       1153       1435      0.783      0.544      0.594      0.359      0.764      0.532      0.579      0.297\n"
     ]
    },
    {
     "name": "stderr",
     "output_type": "stream",
     "text": [
      "\n"
     ]
    },
    {
     "name": "stdout",
     "output_type": "stream",
     "text": [
      "\n",
      "      Epoch    GPU_mem   box_loss   seg_loss   cls_loss   dfl_loss  Instances       Size\n"
     ]
    },
    {
     "name": "stderr",
     "output_type": "stream",
     "text": [
      "       9/10         0G       1.17      2.475      1.128      1.176          1        640: 100%|██████████| 73/73 [22:53\n",
      "                 Class     Images  Instances      Box(P          R      mAP50  mAP50-95)     Mask(P          R      mAP"
     ]
    },
    {
     "name": "stdout",
     "output_type": "stream",
     "text": [
      "                   all       1153       1435      0.746      0.579      0.616      0.396      0.744      0.578      0.611      0.333\n"
     ]
    },
    {
     "name": "stderr",
     "output_type": "stream",
     "text": [
      "\n"
     ]
    },
    {
     "name": "stdout",
     "output_type": "stream",
     "text": [
      "\n",
      "      Epoch    GPU_mem   box_loss   seg_loss   cls_loss   dfl_loss  Instances       Size\n"
     ]
    },
    {
     "name": "stderr",
     "output_type": "stream",
     "text": [
      "      10/10         0G      1.061      2.284      0.982      1.114          1        640: 100%|██████████| 73/73 [21:49\n",
      "                 Class     Images  Instances      Box(P          R      mAP50  mAP50-95)     Mask(P          R      mAP"
     ]
    },
    {
     "name": "stdout",
     "output_type": "stream",
     "text": [
      "                   all       1153       1435      0.837      0.608      0.653      0.428      0.822      0.615      0.647      0.368\n"
     ]
    },
    {
     "name": "stderr",
     "output_type": "stream",
     "text": [
      "\n"
     ]
    },
    {
     "name": "stdout",
     "output_type": "stream",
     "text": [
      "\n",
      "10 epochs completed in 5.469 hours.\n",
      "Optimizer stripped from C:\\Users\\Acer\\runs\\segment\\train9\\weights\\last.pt, 6.8MB\n",
      "Optimizer stripped from C:\\Users\\Acer\\runs\\segment\\train9\\weights\\best.pt, 6.8MB\n",
      "\n",
      "Validating C:\\Users\\Acer\\runs\\segment\\train9\\weights\\best.pt...\n",
      "Ultralytics YOLOv8.1.47  Python-3.9.12 torch-2.0.1+cpu CPU (Intel Core(TM) i3-8130U 2.20GHz)\n",
      "YOLOv8n-seg summary (fused): 195 layers, 3258649 parameters, 0 gradients, 12.0 GFLOPs\n"
     ]
    },
    {
     "name": "stderr",
     "output_type": "stream",
     "text": [
      "                 Class     Images  Instances      Box(P          R      mAP50  mAP50-95)     Mask(P          R      mAP\n"
     ]
    },
    {
     "name": "stdout",
     "output_type": "stream",
     "text": [
      "                   all       1153       1435      0.838      0.607      0.652      0.427      0.823      0.614      0.646      0.367\n",
      "                kidney       1153       1141      0.936      0.886      0.932      0.705      0.917      0.879      0.917      0.591\n",
      "                 tumor       1153        191      0.752      0.487      0.564      0.313      0.728      0.505      0.563      0.256\n",
      "                  cyst       1153        103      0.826      0.447      0.459      0.264      0.823      0.456      0.458      0.256\n",
      "Speed: 3.4ms preprocess, 386.4ms inference, 0.0ms loss, 1.4ms postprocess per image\n",
      "Results saved to \u001b[1mC:\\Users\\Acer\\runs\\segment\\train9\u001b[0m\n"
     ]
    }
   ],
   "source": [
    "model = YOLO('yolov8n-seg.pt')\n",
    "results = model.train(data=r\"D:\\datasets\\my project\\data.yaml\", epochs=10, imgsz=640)"
   ]
  },
  {
   "cell_type": "code",
   "execution_count": 10,
   "id": "12fe02e1",
   "metadata": {},
   "outputs": [],
   "source": [
    "model = YOLO(r\"C:\\Users\\Acer\\runs\\segment\\train9\\weights\\best.pt\")"
   ]
  },
  {
   "cell_type": "code",
   "execution_count": 13,
   "id": "a81227d6",
   "metadata": {},
   "outputs": [
    {
     "name": "stdout",
     "output_type": "stream",
     "text": [
      "\n",
      "image 1/1 D:\\datasets\\my project\\train\\images\\img_091179.png: 640x640 1 kidney, 269.9ms\n",
      "Speed: 6.0ms preprocess, 269.9ms inference, 0.0ms postprocess per image at shape (1, 3, 640, 640)\n"
     ]
    }
   ],
   "source": [
    "results = model(r\"D:\\datasets\\my project\\train\\images\\img_091179.png\")  # return a list of Results objects\n",
    "\n",
    "# Process results list\n",
    "for result in results:\n",
    "    # boxes = result.boxes  # Boxes object for bounding box outputs\n",
    "    # masks = result.masks  # Masks object for segmentation masks outputs\n",
    "    # keypoints = result.keypoints  # Keypoints object for pose outputs\n",
    "    # probs = result.probs  # Probs object for classification outputs\n",
    "    result.show()  # display to screen\n",
    "    # result.save(filename='result.jpg')  # save to disk"
   ]
  },
  {
   "cell_type": "code",
   "execution_count": null,
   "id": "853badc1",
   "metadata": {},
   "outputs": [],
   "source": []
  }
 ],
 "metadata": {
  "kernelspec": {
   "display_name": "Python 3 (ipykernel)",
   "language": "python",
   "name": "python3"
  },
  "language_info": {
   "codemirror_mode": {
    "name": "ipython",
    "version": 3
   },
   "file_extension": ".py",
   "mimetype": "text/x-python",
   "name": "python",
   "nbconvert_exporter": "python",
   "pygments_lexer": "ipython3",
   "version": "3.9.12"
  }
 },
 "nbformat": 4,
 "nbformat_minor": 5
}
